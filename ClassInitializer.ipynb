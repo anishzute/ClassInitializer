{
  "nbformat": 4,
  "nbformat_minor": 0,
  "metadata": {
    "colab": {
      "name": "ClassInitializer.ipynb",
      "provenance": [],
      "private_outputs": true,
      "authorship_tag": "ABX9TyPMW40ZhZvCeI7BoDld6vJ1",
      "include_colab_link": true
    },
    "kernelspec": {
      "name": "python3",
      "display_name": "Python 3"
    }
  },
  "cells": [
    {
      "cell_type": "markdown",
      "metadata": {
        "id": "view-in-github",
        "colab_type": "text"
      },
      "source": [
        "<a href=\"https://colab.research.google.com/github/anishzute/ClassInitializer/blob/master/ClassInitializer.ipynb\" target=\"_parent\"><img src=\"https://colab.research.google.com/assets/colab-badge.svg\" alt=\"Open In Colab\"/></a>"
      ]
    },
    {
      "cell_type": "code",
      "metadata": {
        "id": "fKvg0yHqXc0I",
        "colab_type": "code",
        "colab": {}
      },
      "source": [
        "\n",
        "variablesString = input(\"Enter the variable names you wish to initialize separated by a space: \")\n",
        "variables = variablesString.split()\n",
        "output = \"\\n\\ndef __init__(self\"\n",
        "\n",
        "for var in variables:\n",
        "    output += \", \" + var + \" = None\"\n",
        "\n",
        "#output = output[:-2]\n",
        "output += \"):\\n\"\n",
        "\n",
        "for var in variables:\n",
        "    output += \"\\tself.\" + var + \" = \" + var + \"\\n\"\n",
        "\n",
        "print(output)\n"
      ],
      "execution_count": 0,
      "outputs": []
    },
    {
      "cell_type": "code",
      "metadata": {
        "id": "bpCcQqXYXxBR",
        "colab_type": "code",
        "colab": {}
      },
      "source": [
        ""
      ],
      "execution_count": 0,
      "outputs": []
    }
  ]
}